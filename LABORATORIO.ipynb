{
 "cells": [
  {
   "cell_type": "markdown",
   "metadata": {},
   "source": [
    "<h1>JUAN ACERICO CORNEJO</h1>\n",
    "<h1>CHRISTIAN YERKO ANTEZANA RAMOS</h1>"
   ]
  },
  {
   "cell_type": "code",
   "execution_count": 31,
   "metadata": {},
   "outputs": [
    {
     "name": "stdout",
     "output_type": "stream",
     "text": [
      "[1 2 4 5]\n",
      "[1 1 3 4]\n",
      "[[1 1]\n",
      " [2 1]\n",
      " [4 3]\n",
      " [5 4]]\n"
     ]
    },
    {
     "data": {
      "image/png": "[encoded data removed]",
      "text/plain": [
       "<Figure size 432x288 with 1 Axes>"
      ]
     },
     "metadata": {
      "needs_background": "light"
     },
     "output_type": "display_data"
    },
    {
     "name": "stdout",
     "output_type": "stream",
     "text": [
      "(x1,x2)->:clase\n",
      "1,1->:0\n",
      "(x1,x2)->:clase\n",
      "2,1->:0\n",
      "(x1,x2)->:clase\n",
      "4,3->:1\n",
      "(x1,x2)->:clase\n",
      "5,4->:1\n",
      "[0 0 1 1]\n",
      "prediccion:([[3, 5]],[1])\n",
      "prediccion:([[2, 5]],[1])\n",
      "los centroides Son:  [[1.5 1. ]\n",
      " [4.5 3.5]]\n"
     ]
    },
    {
     "data": {
      "image/png": "[encoded data removed]",
      "text/plain": [
       "<Figure size 432x288 with 1 Axes>"
      ]
     },
     "metadata": {
      "needs_background": "light"
     },
     "output_type": "display_data"
    }
   ],
   "source": [
    "import numpy as np\n",
    "import matplotlib.pyplot as plt\n",
    "from sklearn.cluster import KMeans\n",
    "from sklearn import metrics\n",
    "peso=[1,2,4,5]\n",
    "PH=[1,1,3,4]\n",
    "x1=np.array(peso)\n",
    "x2=np.array(PH)\n",
    "print (x1)\n",
    "print (x2)\n",
    "x=np.array(list(zip(x1,x2))).reshape(len(x1),2)\n",
    "print (x)\n",
    "plt.plot(peso,PH,'o')\n",
    "plt.xlabel('peso')\n",
    "plt.xlabel('PH')\n",
    "plt.show()\n",
    "k=2\n",
    "modelo_kmean=KMeans(n_clusters = k).fit(x)\n",
    "for i,l in enumerate(modelo_kmean.labels_):\n",
    "    print (\"(x1,x2)->:clase\")\n",
    "    print (\"{0},{1}->:{2}\".format(x1[i],x2[i],l))\n",
    "predecir=modelo_kmean.predict(x)\n",
    "print(predecir)\n",
    "prueba1=[[3,5]]\n",
    "prueba=[[2,5]]\n",
    "prediccion=modelo_kmean.predict(prueba)\n",
    "print(\"prediccion:({0},{1})\".format(prueba1,prediccion))\n",
    "print(\"prediccion:({0},{1})\".format(prueba,prediccion))\n",
    "#calaculando los centroides\n",
    "print(\"los centroides Son: \",modelo_kmean.cluster_centers_)\n",
    "centroides = modelo_kmean.cluster_centers_\n",
    "etiquetas = modelo_kmean.labels_\n",
    "plt.plot(x[etiquetas==0,0],x[etiquetas==0,1],'b',label='cluster 1')\n",
    "plt.plot(x[etiquetas==1,0],x[etiquetas==1,1],'r',label='cluster 2')\n",
    "plt.plot(centroides[:,0],centroides[:,1],'mo',markersize=8, label='centroides')\n",
    "plt.legend(loc='best')\n",
    "plt.show()"
   ]
  },
  {
   "cell_type": "code",
   "execution_count": 25,
   "metadata": {},
   "outputs": [
    {
     "ename": "SyntaxError",
     "evalue": "invalid syntax (<ipython-input-25-d8a51bad913c>, line 1)",
     "output_type": "error",
     "traceback": [
      "\u001b[1;36m  File \u001b[1;32m\"<ipython-input-25-d8a51bad913c>\"\u001b[1;36m, line \u001b[1;32m1\u001b[0m\n\u001b[1;33m    <h1>JUAN DE DIOS ACERICO CORNEJO</h1>\u001b[0m\n\u001b[1;37m    ^\u001b[0m\n\u001b[1;31mSyntaxError\u001b[0m\u001b[1;31m:\u001b[0m invalid syntax\n"
     ]
    }
   ],
   "source": []
  },
  {
   "cell_type": "code",
   "execution_count": null,
   "metadata": {},
   "outputs": [],
   "source": []
  },
  {
   "cell_type": "code",
   "execution_count": null,
   "metadata": {},
   "outputs": [],
   "source": []
  },
  {
   "cell_type": "code",
   "execution_count": null,
   "metadata": {},
   "outputs": [],
   "source": []
  },
  {
   "cell_type": "code",
   "execution_count": null,
   "metadata": {},
   "outputs": [],
   "source": []
  },
  {
   "cell_type": "code",
   "execution_count": null,
   "metadata": {},
   "outputs": [],
   "source": []
  },
  {
   "cell_type": "code",
   "execution_count": null,
   "metadata": {},
   "outputs": [],
   "source": []
  }
 ],
 "metadata": {
  "kernelspec": {
   "display_name": "Python 3",
   "language": "python",
   "name": "python3"
  },
  "language_info": {
   "codemirror_mode": {
    "name": "ipython",
    "version": 3
   },
   "file_extension": ".py",
   "mimetype": "text/x-python",
   "name": "python",
   "nbconvert_exporter": "python",
   "pygments_lexer": "ipython3",
   "version": "3.7.3"
  }
 },
 "nbformat": 4,
 "nbformat_minor": 2
}
